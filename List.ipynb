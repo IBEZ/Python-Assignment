{
 "cells": [
  {
   "cell_type": "markdown",
   "metadata": {},
   "source": [
    "# List"
   ]
  },
  {
   "cell_type": "code",
   "execution_count": 1,
   "metadata": {},
   "outputs": [
    {
     "name": "stdout",
     "output_type": "stream",
     "text": [
      "['Farhad', 'Usama', 'Assam']\n"
     ]
    }
   ],
   "source": [
    "Std_name = [\"Farhad\",\"Usama\",\"Assam\"]\n",
    "print(Std_name)"
   ]
  },
  {
   "cell_type": "code",
   "execution_count": 2,
   "metadata": {},
   "outputs": [
    {
     "name": "stdout",
     "output_type": "stream",
     "text": [
      "Farhad\n",
      "Usama\n",
      "Assam\n"
     ]
    }
   ],
   "source": [
    "print(Std_name[0])\n",
    "print(Std_name[1])\n",
    "print(Std_name[2])"
   ]
  },
  {
   "cell_type": "code",
   "execution_count": 3,
   "metadata": {},
   "outputs": [
    {
     "name": "stdout",
     "output_type": "stream",
     "text": [
      "Updated Student Name list: ['Farhad', 'Usama', 'Assam', 'Mohsin Ahmed']\n"
     ]
    }
   ],
   "source": [
    "#append\n",
    "Std_name.append(\"Mohsin Ahmed\")\n",
    "print(\"Updated Student Name list:\",Std_name)"
   ]
  },
  {
   "cell_type": "code",
   "execution_count": 4,
   "metadata": {},
   "outputs": [
    {
     "name": "stdout",
     "output_type": "stream",
     "text": [
      "['Pakistan', 'India', 'Afganistan', 'USA', 'England', 'Turkey']\n"
     ]
    }
   ],
   "source": [
    "#extend\n",
    "country_name = [\"Pakistan\",\"India\",\"Afganistan\"]\n",
    "country_name1 = [\"USA\",\"England\",\"Turkey\"]\n",
    "country_name.extend(country_name1)\n",
    "print(country_name)"
   ]
  },
  {
   "cell_type": "code",
   "execution_count": 23,
   "metadata": {},
   "outputs": [
    {
     "name": "stdout",
     "output_type": "stream",
     "text": [
      "['Farhad', 'Usama', 'Assam', 'Fahama', 'Fahama', 'Fahama', 'Fahama', 'Fahama', 'Fahama', 'Fahama', 'Fahama', 'Fahama', 'Mohsin Ahmed']\n",
      "[62738, 62588, 98755, 62978, 62978, 62855]\n"
     ]
    }
   ],
   "source": [
    "#insert\n",
    "#Std_name.insert(3,\"Fahama\")\n",
    "#print(\"Updated Student Name list:\",Std_name)\n",
    "#Std_nu = [62738,62588,98755,62855]\n",
    "Std_nu.insert(3,62978)\n",
    "print(Std_name)\n",
    "print(Std_nu)\n"
   ]
  },
  {
   "cell_type": "code",
   "execution_count": 33,
   "metadata": {},
   "outputs": [
    {
     "name": "stdout",
     "output_type": "stream",
     "text": [
      "[62738, 62588, 98755, 62978, 62855]\n"
     ]
    }
   ],
   "source": [
    "#remove\n",
    "#fahama name has been added in multiple time. so, i remove it\n",
    "Std_name.remove(\"Fahama\")\n",
    "print(Std_name)\n",
    "#only single fahama name is exit\n",
    "Std_nu.remove(62978)\n",
    "print(Std_nu)"
   ]
  },
  {
   "cell_type": "code",
   "execution_count": 39,
   "metadata": {},
   "outputs": [
    {
     "name": "stdout",
     "output_type": "stream",
     "text": [
      "2\n",
      "2\n"
     ]
    }
   ],
   "source": [
    "#index\n",
    "#print(Std_nu)\n",
    "#print(Std_name)\n",
    "x = Std_name.index(\"Assam\")\n",
    "y = Std_nu.index(98755)\n",
    "print(x)\n",
    "print(y)"
   ]
  },
  {
   "cell_type": "code",
   "execution_count": 42,
   "metadata": {},
   "outputs": [
    {
     "name": "stdout",
     "output_type": "stream",
     "text": [
      "1\n",
      "1\n"
     ]
    }
   ],
   "source": [
    "#count\n",
    "#print(Std_nu)\n",
    "#print(Std_name)\n",
    "x = Std_name.count(\"Usama\")\n",
    "y = Std_nu.count(62588)\n",
    "print(x)\n",
    "print(y)"
   ]
  },
  {
   "cell_type": "code",
   "execution_count": 51,
   "metadata": {},
   "outputs": [
    {
     "name": "stdout",
     "output_type": "stream",
     "text": [
      "lion\n"
     ]
    }
   ],
   "source": [
    "#pop\n",
    "animal = [\"dog\",\"cat\",\"lion\"]\n",
    "#show = animal.pop(2)\n",
    "show1 = animal.pop(-1)\n",
    "#show2 = animal.pop(3)\n",
    "print(show)\n",
    "#show result\n",
    "print(show1)\n",
    "#show result\n",
    "print(show2)\n",
    "#show error message because 3 index is out of range"
   ]
  },
  {
   "cell_type": "code",
   "execution_count": 53,
   "metadata": {},
   "outputs": [
    {
     "name": "stdout",
     "output_type": "stream",
     "text": [
      "[1, 2, 3, 4, 5]\n",
      "[5, 4, 3, 2, 1]\n"
     ]
    }
   ],
   "source": [
    "#reserve\n",
    "number = [1,2,3,4,5]\n",
    "print(number)\n",
    "number.reverse()\n",
    "print(number)\n"
   ]
  },
  {
   "cell_type": "code",
   "execution_count": 57,
   "metadata": {},
   "outputs": [
    {
     "name": "stdout",
     "output_type": "stream",
     "text": [
      "Un-sort order : ['d', 'c', 'a', 'b']\n",
      "Sort order : ['a', 'b', 'c', 'd']\n",
      "Reverse sort order: ['d', 'c', 'b', 'a']\n"
     ]
    }
   ],
   "source": [
    "#sort\n",
    "alphabet = [\"d\",\"c\",\"a\",\"b\"]\n",
    "print(\"Un-sort order :\",alphabet)\n",
    "alphabet.sort()\n",
    "print(\"Sort order :\",alphabet)\n",
    "alphabet.sort(reverse=True)\n",
    "print(\"Reverse sort order:\",alphabet)"
   ]
  },
  {
   "cell_type": "code",
   "execution_count": 61,
   "metadata": {},
   "outputs": [
    {
     "name": "stdout",
     "output_type": "stream",
     "text": [
      "['d', 'c', 'a', 'b']\n",
      "['d', 'c', 'a', 'b', 'e']\n"
     ]
    }
   ],
   "source": [
    "#copy\n",
    "alphabet = [\"d\",\"c\",\"a\",\"b\"]\n",
    "x = alphabet.copy()\n",
    "x.append(\"e\")\n",
    "print(alphabet)\n",
    "print(x)"
   ]
  },
  {
   "cell_type": "code",
   "execution_count": 63,
   "metadata": {},
   "outputs": [
    {
     "name": "stdout",
     "output_type": "stream",
     "text": [
      "True\n",
      "True\n",
      "False\n"
     ]
    }
   ],
   "source": [
    "#any\n",
    "message = \"A message can be the content of a broadcast\"\n",
    "print(any(message))\n",
    "message1 = \"A message\"\n",
    "print(any(message1))\n",
    "emptp_msg = \"\"\n",
    "print(any(emptp_msg))"
   ]
  },
  {
   "cell_type": "code",
   "execution_count": 64,
   "metadata": {},
   "outputs": [
    {
     "name": "stdout",
     "output_type": "stream",
     "text": [
      "True\n",
      "True\n",
      "False\n"
     ]
    }
   ],
   "source": [
    "#all\n",
    "number = [1,2,3,4]\n",
    "print(any(number))\n",
    "number1 = [1,2]\n",
    "print(any(number1))\n",
    "no_number = []\n",
    "print(any(no_number))"
   ]
  },
  {
   "cell_type": "code",
   "execution_count": 66,
   "metadata": {},
   "outputs": [
    {
     "name": "stdout",
     "output_type": "stream",
     "text": [
      "['Abdul M\\xf6iz', 'Ur\\xf6\\xf6j', '\\xf6sama']\n"
     ]
    }
   ],
   "source": [
    "#ascii\n",
    "random_list =[\"Abdul Möiz\", \"Urööj\",\"ösama\"]\n",
    "print(ascii(random_list))"
   ]
  },
  {
   "cell_type": "code",
   "execution_count": 69,
   "metadata": {},
   "outputs": [
    {
     "name": "stdout",
     "output_type": "stream",
     "text": [
      "Test Value is False\n",
      "Test Value is True\n",
      "Test Value is True\n",
      "Test Value is True\n"
     ]
    }
   ],
   "source": [
    "#bool\n",
    "test1 = []\n",
    "print(\"Test Value is\",bool(test1))\n",
    "test2 = [0]\n",
    "print(\"Test Value is\",bool(test2))\n",
    "test3 = [1,2]\n",
    "print(\"Test Value is\",bool(test2))\n",
    "test4 = [\"Python is beautiful\"]\n",
    "print(\"Test Value is\",bool(test4))\n"
   ]
  },
  {
   "cell_type": "code",
   "execution_count": 70,
   "metadata": {},
   "outputs": [
    {
     "name": "stdout",
     "output_type": "stream",
     "text": [
      "<class 'enumerate'>\n",
      "[(0, 'Sumsung'), (1, 'Nokia'), (2, 'Iphone'), (3, 'LG')]\n"
     ]
    }
   ],
   "source": [
    "#enumerate\n",
    "mobile_name = [\"Sumsung\",\"Nokia\",\"Iphone\",\"LG\"]\n",
    "x = enumerate(mobile_name)\n",
    "print(type(x))\n",
    "print(list(x))\n"
   ]
  },
  {
   "cell_type": "code",
   "execution_count": 78,
   "metadata": {},
   "outputs": [
    {
     "name": "stdout",
     "output_type": "stream",
     "text": [
      "The filtered elements are:\n",
      "9\n",
      "b\n",
      "0\n",
      "22\n"
     ]
    }
   ],
   "source": [
    "#filter\n",
    "random_list = [9, \"b\",0,\"0\",22]\n",
    "x = filter(None,random_list)\n",
    "print('The filtered elements are:')\n",
    "for element in filteredList:\n",
    "    print(element)"
   ]
  },
  {
   "cell_type": "code",
   "execution_count": 83,
   "metadata": {},
   "outputs": [
    {
     "name": "stdout",
     "output_type": "stream",
     "text": [
      "<list_iterator object at 0x05B76050>\n",
      "1\n",
      "5\n",
      "9\n",
      "6\n"
     ]
    },
    {
     "ename": "StopIteration",
     "evalue": "",
     "output_type": "error",
     "traceback": [
      "\u001b[1;31m---------------------------------------------------------------------------\u001b[0m",
      "\u001b[1;31mStopIteration\u001b[0m                             Traceback (most recent call last)",
      "\u001b[1;32m<ipython-input-83-ec22648f291e>\u001b[0m in \u001b[0;36m<module>\u001b[1;34m\u001b[0m\n\u001b[0;32m      7\u001b[0m \u001b[0mprint\u001b[0m\u001b[1;33m(\u001b[0m\u001b[0mnext\u001b[0m\u001b[1;33m(\u001b[0m\u001b[0mx\u001b[0m\u001b[1;33m)\u001b[0m\u001b[1;33m)\u001b[0m\u001b[1;33m\u001b[0m\u001b[1;33m\u001b[0m\u001b[0m\n\u001b[0;32m      8\u001b[0m \u001b[0mprint\u001b[0m\u001b[1;33m(\u001b[0m\u001b[0mnext\u001b[0m\u001b[1;33m(\u001b[0m\u001b[0mx\u001b[0m\u001b[1;33m)\u001b[0m\u001b[1;33m)\u001b[0m\u001b[1;33m\u001b[0m\u001b[1;33m\u001b[0m\u001b[0m\n\u001b[1;32m----> 9\u001b[1;33m \u001b[0mprint\u001b[0m\u001b[1;33m(\u001b[0m\u001b[0mnext\u001b[0m\u001b[1;33m(\u001b[0m\u001b[0mx\u001b[0m\u001b[1;33m)\u001b[0m\u001b[1;33m)\u001b[0m\u001b[1;33m\u001b[0m\u001b[1;33m\u001b[0m\u001b[0m\n\u001b[0m\u001b[0;32m     10\u001b[0m \u001b[1;31m#because all number has been show and their no new number to show.so, error message will be generated\u001b[0m\u001b[1;33m\u001b[0m\u001b[1;33m\u001b[0m\u001b[1;33m\u001b[0m\u001b[0m\n",
      "\u001b[1;31mStopIteration\u001b[0m: "
     ]
    }
   ],
   "source": [
    "#iter\n",
    "number = [1,5,9,6]\n",
    "x = iter(number)\n",
    "print(x)\n",
    "print(next(x))\n",
    "print(next(x))\n",
    "print(next(x))\n",
    "print(next(x))\n",
    "print(next(x))\n",
    "#because all number has been show and their no new number to show.so, error message will be generated"
   ]
  },
  {
   "cell_type": "code",
   "execution_count": 87,
   "metadata": {},
   "outputs": [
    {
     "name": "stdout",
     "output_type": "stream",
     "text": [
      "['Karachi', 'Lahore', 'Multan']\n",
      "['Karachi', 'Lahore', 'Multan']\n"
     ]
    }
   ],
   "source": [
    "#list\n",
    "city = (\"Karachi\",\"Lahore\",\"Multan\")\n",
    "print(list(city))\n",
    "dictionarycity = {'Karachi':1,'Lahore':2,'Multan':3}\n",
    "print(list(dictionarycity))"
   ]
  },
  {
   "cell_type": "code",
   "execution_count": 94,
   "metadata": {},
   "outputs": [
    {
     "name": "stdout",
     "output_type": "stream",
     "text": [
      "[] length is: 0\n",
      "[1, 2, 3] Length is: 3\n",
      "['a', 'malik'] Length is: 2\n"
     ]
    }
   ],
   "source": [
    "#len\n",
    "number1 = []\n",
    "print(number1, 'length is:', len(number1))\n",
    "number2 = [1,2,3]\n",
    "print(number2, \"Length is:\",len(number2))\n",
    "word = [\"a\",\"malik\"]\n",
    "print(word, \"Length is:\",len(word))"
   ]
  },
  {
   "cell_type": "code",
   "execution_count": 97,
   "metadata": {},
   "outputs": [
    {
     "name": "stdout",
     "output_type": "stream",
     "text": [
      "Maximum is: 88\n"
     ]
    }
   ],
   "source": [
    "#max\n",
    "number = [1,55,9,6,7,88,16]\n",
    "print('Maximum is:', max(number))"
   ]
  },
  {
   "cell_type": "code",
   "execution_count": 98,
   "metadata": {},
   "outputs": [
    {
     "name": "stdout",
     "output_type": "stream",
     "text": [
      "Minium is: 3\n"
     ]
    }
   ],
   "source": [
    "#min\n",
    "number = [999,55,3,87,345]\n",
    "print('Minium is:', min(number))"
   ]
  },
  {
   "cell_type": "code",
   "execution_count": 104,
   "metadata": {},
   "outputs": [
    {
     "name": "stdout",
     "output_type": "stream",
     "text": [
      "<map object at 0x01587F30>\n",
      "{16, 1, 4, 9}\n"
     ]
    }
   ],
   "source": [
    "#map\n",
    "def calculateSquare(n):\n",
    "    return n*n\n",
    "numbers = (1, 2, 3, 4)\n",
    "x = map(calculateSquare, numbers)\n",
    "print(x)\n",
    "result = set(x)\n",
    "print(result)"
   ]
  },
  {
   "cell_type": "code",
   "execution_count": 109,
   "metadata": {},
   "outputs": [
    {
     "name": "stdout",
     "output_type": "stream",
     "text": [
      "['Lahore', 'Karachi']\n",
      "[8, 7, 6, 5]\n"
     ]
    }
   ],
   "source": [
    "#reversed\n",
    "word = [\"Karachi\",\"Lahore\"]\n",
    "x = list(reversed(word))\n",
    "print(x)\n",
    "number = [5,6,7,8]\n",
    "y = list(reversed(number))\n",
    "print(y)"
   ]
  },
  {
   "cell_type": "code",
   "execution_count": 115,
   "metadata": {},
   "outputs": [
    {
     "name": "stdout",
     "output_type": "stream",
     "text": [
      "csh\n"
     ]
    }
   ],
   "source": [
    "#slice\n",
    "language = 'csharp'\n",
    "x = slice(3)\n",
    "print(language[x])"
   ]
  },
  {
   "cell_type": "code",
   "execution_count": 116,
   "metadata": {},
   "outputs": [
    {
     "name": "stdout",
     "output_type": "stream",
     "text": [
      "['Blue Crow Parakeet', 'Parrot', 'Toucan ']\n",
      "[4, 6, 7, 9]\n"
     ]
    }
   ],
   "source": [
    "#sorted\n",
    "bird_name = [\"Parrot\",\"Toucan \", \"Blue Crow Parakeet\"]\n",
    "x = sorted(bird_name)\n",
    "print(x)\n",
    "number = [9,6,7,4]\n",
    "y = sorted(number)\n",
    "print(y)"
   ]
  },
  {
   "cell_type": "code",
   "execution_count": 120,
   "metadata": {},
   "outputs": [
    {
     "name": "stdout",
     "output_type": "stream",
     "text": [
      "Sum of integer numbers is : 12\n",
      "Sum of decimal numbers is : 8.0\n"
     ]
    }
   ],
   "source": [
    "#sum\n",
    "import math\n",
    "number = [2,9,1]\n",
    "y = sum(number)\n",
    "print(\"Sum of integer numbers is :\",y)\n",
    "number2 = [1.5,6.5]\n",
    "z = math.fsum(number2)\n",
    "print(\"Sum of decimal numbers is :\",z)"
   ]
  },
  {
   "cell_type": "code",
   "execution_count": 122,
   "metadata": {},
   "outputs": [
    {
     "name": "stdout",
     "output_type": "stream",
     "text": [
      "<zip object at 0x019829E0>\n",
      "{(10, 'Ten'), (9, 'Nine'), (5, 'Five')}\n"
     ]
    }
   ],
   "source": [
    "#zip\n",
    "number = [5,9,10]\n",
    "wordnumber = [\"Five\", \"Nine\", \"Ten\"]\n",
    "x = zip(number,wordnumber)\n",
    "print(x)\n",
    "z = set(x)\n",
    "print(z)"
   ]
  },
  {
   "cell_type": "code",
   "execution_count": 125,
   "metadata": {},
   "outputs": [
    {
     "name": "stdout",
     "output_type": "stream",
     "text": [
      "[1, 2, 5, 3]\n",
      "None\n"
     ]
    }
   ],
   "source": [
    "#clear\n",
    "l = [1,2,5,3]\n",
    "print(l)\n",
    "#after clear method apply on above list then list clear item succesfully\n",
    "x = l.clear()\n",
    "print(x)"
   ]
  }
 ],
 "metadata": {
  "kernelspec": {
   "display_name": "Python 3",
   "language": "python",
   "name": "python3"
  },
  "language_info": {
   "codemirror_mode": {
    "name": "ipython",
    "version": 3
   },
   "file_extension": ".py",
   "mimetype": "text/x-python",
   "name": "python",
   "nbconvert_exporter": "python",
   "pygments_lexer": "ipython3",
   "version": "3.7.3"
  }
 },
 "nbformat": 4,
 "nbformat_minor": 2
}
