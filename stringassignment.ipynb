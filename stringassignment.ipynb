{
 "cells": [
  {
   "cell_type": "markdown",
   "metadata": {},
   "source": [
    "# String Statment"
   ]
  },
  {
   "cell_type": "code",
   "execution_count": 66,
   "metadata": {},
   "outputs": [
    {
     "name": "stdout",
     "output_type": "stream",
     "text": [
      "Artifical Intelligence\n"
     ]
    }
   ],
   "source": [
    "#simple\n",
    "x = \"Artifical Intelligence\"\n",
    "print(x)"
   ]
  },
  {
   "cell_type": "code",
   "execution_count": 6,
   "metadata": {},
   "outputs": [
    {
     "data": {
      "text/plain": [
       "'Hrtifical Intelligence'"
      ]
     },
     "execution_count": 6,
     "metadata": {},
     "output_type": "execute_result"
    }
   ],
   "source": [
    "#replace\n",
    "x.replace(\"A\",\"H\")"
   ]
  },
  {
   "cell_type": "code",
   "execution_count": 67,
   "metadata": {},
   "outputs": [
    {
     "data": {
      "text/plain": [
       "['Artifical Intelligence']"
      ]
     },
     "execution_count": 67,
     "metadata": {},
     "output_type": "execute_result"
    }
   ],
   "source": [
    "#split\n",
    "x.split(\",\")"
   ]
  },
  {
   "cell_type": "code",
   "execution_count": 72,
   "metadata": {},
   "outputs": [
    {
     "name": "stdout",
     "output_type": "stream",
     "text": [
      "['The Java programming language', ' requires the presence of', ' a software platform in order for', ' compiled programs to be executed']\n",
      "['The Java programming language requires the presence of a software platform in order for compiled programs to be executed']\n"
     ]
    }
   ],
   "source": [
    "#splitlines\n",
    "sentence = \"The Java programming language\\n requires the presence of\\r\\n a software platform in order for\\f compiled programs to be executed\"\n",
    "x = sentence.splitlines()\n",
    "print(x)\n",
    "#print(sentence.splitlines(true))\n",
    "sentence1 = \"The Java programming language requires the presence of a software platform in order for compiled programs to be executed\"\n",
    "print(sentence1.splitlines())"
   ]
  },
  {
   "cell_type": "code",
   "execution_count": 21,
   "metadata": {},
   "outputs": [
    {
     "name": "stdout",
     "output_type": "stream",
     "text": [
      "The count is: 2\n"
     ]
    }
   ],
   "source": [
    "#count\n",
    "x = \"String literals in python are surrounded or not? \"\n",
    "sub = \"in\"\n",
    "count = x.count(sub)\n",
    "print(\"The count is:\",count)"
   ]
  },
  {
   "cell_type": "code",
   "execution_count": 20,
   "metadata": {},
   "outputs": [
    {
     "data": {
      "text/plain": [
       "'string literals in python are surrounded ? '"
      ]
     },
     "execution_count": 20,
     "metadata": {},
     "output_type": "execute_result"
    }
   ],
   "source": [
    "#casefold\n",
    "x.casefold()"
   ]
  },
  {
   "cell_type": "code",
   "execution_count": 22,
   "metadata": {},
   "outputs": [
    {
     "name": "stdout",
     "output_type": "stream",
     "text": [
      "16\n"
     ]
    }
   ],
   "source": [
    "#find\n",
    "x = \"String literals in python are surrounded or not? \"\n",
    "y = x.find(\"in python\")\n",
    "print(y)"
   ]
  },
  {
   "cell_type": "code",
   "execution_count": 28,
   "metadata": {},
   "outputs": [
    {
     "name": "stdout",
     "output_type": "stream",
     "text": [
      "False\n",
      "True\n"
     ]
    }
   ],
   "source": [
    "#endswith\n",
    "x = \"Python is beautiful language.\"\n",
    "y = x.endswith('is beautiful')\n",
    "print(y)\n",
    "y = x.endswith('Python is beautiful language.')\n",
    "print(y)"
   ]
  },
  {
   "cell_type": "code",
   "execution_count": 42,
   "metadata": {},
   "outputs": [
    {
     "name": "stdout",
     "output_type": "stream",
     "text": [
      "After sentence is center:   Python is beautiful   \n"
     ]
    }
   ],
   "source": [
    "#center\n",
    "x = \"Python is beautiful\"\n",
    "y = x.center(24,)\n",
    "#y = x.center(24,'*')\n",
    "print(\"After sentence is center:\",y)"
   ]
  },
  {
   "cell_type": "code",
   "execution_count": 48,
   "metadata": {},
   "outputs": [
    {
     "name": "stdout",
     "output_type": "stream",
     "text": [
      "The encoded version is: b'c\\xc3\\xb6de!'\n"
     ]
    }
   ],
   "source": [
    "#encode\n",
    "x = 'cöde!'\n",
    "#print(x)\n",
    "y = x.encode()\n",
    "print(\"The encoded version is:\",y)"
   ]
  },
  {
   "cell_type": "code",
   "execution_count": 50,
   "metadata": {},
   "outputs": [
    {
     "name": "stdout",
     "output_type": "stream",
     "text": [
      "After tabs apply: 62738   XYZ\n",
      "After tabs apply by number: 62738     XYZ\n"
     ]
    }
   ],
   "source": [
    "#expandtabs\n",
    "x = \"62738\\tXYZ\"\n",
    "y = x.expandtabs()\n",
    "z = x.expandtabs(5)\n",
    "#y = x.center(24,'*')\n",
    "print(\"After tabs apply:\",y)\n",
    "print(\"After tabs apply by tab size:\",z)"
   ]
  },
  {
   "cell_type": "code",
   "execution_count": 53,
   "metadata": {},
   "outputs": [
    {
     "name": "stdout",
     "output_type": "stream",
     "text": [
      "7\n"
     ]
    },
    {
     "ename": "ValueError",
     "evalue": "substring not found",
     "output_type": "error",
     "traceback": [
      "\u001b[1;31m---------------------------------------------------------------------------\u001b[0m",
      "\u001b[1;31mValueError\u001b[0m                                Traceback (most recent call last)",
      "\u001b[1;32m<ipython-input-53-204c3f512c3a>\u001b[0m in \u001b[0;36m<module>\u001b[1;34m\u001b[0m\n\u001b[0;32m      3\u001b[0m \u001b[0my\u001b[0m \u001b[1;33m=\u001b[0m \u001b[0mx\u001b[0m\u001b[1;33m.\u001b[0m\u001b[0mindex\u001b[0m\u001b[1;33m(\u001b[0m\u001b[1;34m'is beautiful'\u001b[0m\u001b[1;33m)\u001b[0m\u001b[1;33m\u001b[0m\u001b[1;33m\u001b[0m\u001b[0m\n\u001b[0;32m      4\u001b[0m \u001b[0mprint\u001b[0m\u001b[1;33m(\u001b[0m\u001b[0my\u001b[0m\u001b[1;33m)\u001b[0m\u001b[1;33m\u001b[0m\u001b[1;33m\u001b[0m\u001b[0m\n\u001b[1;32m----> 5\u001b[1;33m \u001b[0mz\u001b[0m \u001b[1;33m=\u001b[0m \u001b[0mx\u001b[0m\u001b[1;33m.\u001b[0m\u001b[0mindex\u001b[0m\u001b[1;33m(\u001b[0m\u001b[1;34m'C#'\u001b[0m\u001b[1;33m)\u001b[0m\u001b[1;33m\u001b[0m\u001b[1;33m\u001b[0m\u001b[0m\n\u001b[0m\u001b[0;32m      6\u001b[0m \u001b[1;31m#error because this correct is not found in above sentence\u001b[0m\u001b[1;33m\u001b[0m\u001b[1;33m\u001b[0m\u001b[1;33m\u001b[0m\u001b[0m\n\u001b[0;32m      7\u001b[0m \u001b[0mprint\u001b[0m\u001b[1;33m(\u001b[0m\u001b[0mz\u001b[0m\u001b[1;33m)\u001b[0m\u001b[1;33m\u001b[0m\u001b[1;33m\u001b[0m\u001b[0m\n",
      "\u001b[1;31mValueError\u001b[0m: substring not found"
     ]
    }
   ],
   "source": [
    "#index\n",
    "x = \"Python is beautiful language.\"\n",
    "y = x.index('is beautiful')\n",
    "print(y)\n",
    "z = x.index('C#')\n",
    "#error because this correct is not found in above sentence\n",
    "print(z)"
   ]
  },
  {
   "cell_type": "code",
   "execution_count": 58,
   "metadata": {},
   "outputs": [
    {
     "name": "stdout",
     "output_type": "stream",
     "text": [
      "True\n",
      "True\n"
     ]
    }
   ],
   "source": [
    "#isalnum\n",
    "x = \"Python\"\n",
    "y = x.isalnum()\n",
    "print(y)\n",
    "z = \"62738\"\n",
    "v = z.isalnum()\n",
    "print(v)"
   ]
  },
  {
   "cell_type": "code",
   "execution_count": 61,
   "metadata": {},
   "outputs": [
    {
     "name": "stdout",
     "output_type": "stream",
     "text": [
      "True\n",
      "True\n"
     ]
    }
   ],
   "source": [
    "#isalpha\n",
    "x = \"Python\"\n",
    "y = x.isalpha()\n",
    "print(y)\n",
    "z = \"abcde\"\n",
    "v = z.isalpha()\n",
    "print(v)"
   ]
  },
  {
   "cell_type": "code",
   "execution_count": 62,
   "metadata": {},
   "outputs": [
    {
     "name": "stdout",
     "output_type": "stream",
     "text": [
      "False\n",
      "True\n"
     ]
    }
   ],
   "source": [
    "#isdecimal\n",
    "x = \"Python\"\n",
    "y = x.isdecimal()\n",
    "print(y)\n",
    "a = \"12635\"\n",
    "b = a.isdecimal()\n",
    "print(b)"
   ]
  },
  {
   "cell_type": "code",
   "execution_count": 66,
   "metadata": {},
   "outputs": [
    {
     "name": "stdout",
     "output_type": "stream",
     "text": [
      "False\n",
      "True\n",
      "False\n"
     ]
    }
   ],
   "source": [
    "#isdigit\n",
    "x = \"Muhammad Zohaib\"\n",
    "y = x.isdigit()\n",
    "print(y)\n",
    "a = \"62738\"\n",
    "b = a.isdigit()\n",
    "print(b)\n",
    "p = \"\\u00BD\"\n",
    "#q = \n",
    "print(p.isdigit())"
   ]
  },
  {
   "cell_type": "code",
   "execution_count": 68,
   "metadata": {},
   "outputs": [
    {
     "name": "stdout",
     "output_type": "stream",
     "text": [
      "True\n",
      "False\n"
     ]
    }
   ],
   "source": [
    "#isidentifier \n",
    "x = \"Csharp\"\n",
    "y = x.isidentifier()\n",
    "print(y)\n",
    "a = \"C sharp\"\n",
    "b = a.isidentifier()\n",
    "print(b)"
   ]
  },
  {
   "cell_type": "code",
   "execution_count": 3,
   "metadata": {},
   "outputs": [
    {
     "name": "stdout",
     "output_type": "stream",
     "text": [
      "True\n",
      "False\n"
     ]
    }
   ],
   "source": [
    "#isnumeric\n",
    "x = \"62738\"\n",
    "y = x.isnumeric()\n",
    "print(y)\n",
    "z = \"ABC\"\n",
    "w = z.isnumeric()\n",
    "print(w)"
   ]
  },
  {
   "cell_type": "code",
   "execution_count": 5,
   "metadata": {},
   "outputs": [
    {
     "name": "stdout",
     "output_type": "stream",
     "text": [
      "True\n",
      "True\n",
      "False\n"
     ]
    }
   ],
   "source": [
    "#isprintable\n",
    "sentence = \"Presidential Initiative for Artificial Intelligence and Computing (PIAIC) Headquarters\"\n",
    "show = sentence.isprintable()\n",
    "print(show)\n",
    "sentence1 = ''\n",
    "show2 = sentence1.isprintable()\n",
    "print(show2)\n",
    "sentence3 = \"\\nPresidential Initiative for Artificial Intelligence and Computing (PIAIC) Headquarters \"\n",
    "show3 = sentence3.isprintable()\n",
    "print(show3)"
   ]
  },
  {
   "cell_type": "code",
   "execution_count": 8,
   "metadata": {},
   "outputs": [
    {
     "name": "stdout",
     "output_type": "stream",
     "text": [
      "False\n",
      "True\n"
     ]
    }
   ],
   "source": [
    "#isspace \n",
    "sentence = \"Presidential Initiative for Artificial Intelligence and Computing (PIAIC) Headquarters\"\n",
    "show = sentence.isspace()\n",
    "print(show)\n",
    "sentence1 = \"  \"\n",
    "show1 = sentence1.isspace()\n",
    "print(show1)\n"
   ]
  },
  {
   "cell_type": "code",
   "execution_count": 2,
   "metadata": {},
   "outputs": [
    {
     "name": "stdout",
     "output_type": "stream",
     "text": [
      "False\n",
      "True\n"
     ]
    }
   ],
   "source": [
    "#isupper \n",
    "sentence = \"PAF - Karachi Institute of Economics and Technology\"\n",
    "show = sentence.isupper()\n",
    "print(show)\n",
    "#-----------------\n",
    "sentence1 = \"PAF - KARACHI INSTITUTE IF ECONOMICS AND TECHNOLOGY\"\n",
    "show1 = sentence1.isupper()\n",
    "print(show1)"
   ]
  },
  {
   "cell_type": "code",
   "execution_count": 4,
   "metadata": {},
   "outputs": [
    {
     "name": "stdout",
     "output_type": "stream",
     "text": [
      "Word can join by word1: 1abcded2abcded3abcded4abcded5abcded6\n",
      "Word1 can join by word: a123456b123456c123456d123456e123456d\n"
     ]
    }
   ],
   "source": [
    "#join \n",
    "word = \"abcded\"\n",
    "word1 = \"123456\"\n",
    "print(\"Word can join by word1:\",word.join(word1))\n",
    "print(\"Word1 can join by word:\",word1.join(word))"
   ]
  },
  {
   "cell_type": "code",
   "execution_count": 22,
   "metadata": {},
   "outputs": [
    {
     "name": "stdout",
     "output_type": "stream",
     "text": [
      "Pakistan     \n"
     ]
    }
   ],
   "source": [
    "#ljust \n",
    "word = \"Pakistan\"\n",
    "width = 13\n",
    "#fillchar = '*'\n",
    "print(word.ljust(width))"
   ]
  },
  {
   "cell_type": "code",
   "execution_count": 25,
   "metadata": {},
   "outputs": [
    {
     "name": "stdout",
     "output_type": "stream",
     "text": [
      "     Pakistan Zindabad\n"
     ]
    }
   ],
   "source": [
    "#rjust \n",
    "line = \"Pakistan Zindabad\"\n",
    "width = 22\n",
    "print(line.rjust(width))"
   ]
  },
  {
   "cell_type": "code",
   "execution_count": 28,
   "metadata": {},
   "outputs": [
    {
     "name": "stdout",
     "output_type": "stream",
     "text": [
      "har dil ki awaz\n",
      "PAKISTAN ZINDABAD \n"
     ]
    }
   ],
   "source": [
    "#swapcase \n",
    "line = \"HAR DIL KI AWAZ\"\n",
    "x = line.swapcase()\n",
    "print(x)\n",
    "line2 = \"pakistan zindabad \"\n",
    "y = line2.swapcase()\n",
    "print(y)"
   ]
  },
  {
   "cell_type": "code",
   "execution_count": 30,
   "metadata": {},
   "outputs": [
    {
     "name": "stdout",
     "output_type": "stream",
     "text": [
      "Saylani Welfare\n",
      "lani Welfare\n"
     ]
    }
   ],
   "source": [
    "#lstrip \n",
    "sentence = \"Saylani Welfare\"\n",
    "x = sentence.lstrip()\n",
    "print(x)\n",
    "y = sentence.lstrip(\"Say\")\n",
    "print(y)"
   ]
  },
  {
   "cell_type": "code",
   "execution_count": 35,
   "metadata": {},
   "outputs": [
    {
     "name": "stdout",
     "output_type": "stream",
     "text": [
      "Artifical Intelligence\n",
      "Artifical Intellig\n"
     ]
    }
   ],
   "source": [
    "#rstrip \n",
    "sentence = \"Artifical Intelligence\"\n",
    "x = sentence.rstrip()\n",
    "print(x)\n",
    "y = sentence.rstrip(\"ence\")\n",
    "print(y)"
   ]
  },
  {
   "cell_type": "code",
   "execution_count": 38,
   "metadata": {},
   "outputs": [
    {
     "name": "stdout",
     "output_type": "stream",
     "text": [
      "gital Marketing\n",
      "Digital Market\n"
     ]
    }
   ],
   "source": [
    "#strip\n",
    "sentence = \"Digital Marketing\"\n",
    "x = sentence.strip(\"Di\")\n",
    "print(x)\n",
    "y = sentence.strip(\"ing\")\n",
    "print(y)"
   ]
  },
  {
   "cell_type": "code",
   "execution_count": 44,
   "metadata": {},
   "outputs": [
    {
     "name": "stdout",
     "output_type": "stream",
     "text": [
      "('ERP ', 'is ', 'the merge of computer and management science')\n",
      "('ERP is the merge ', 'of ', 'computer and management science')\n"
     ]
    }
   ],
   "source": [
    "#partition \n",
    "sentence = \"ERP is the merge of computer and management science\"\n",
    "print(sentence.partition('is '))\n",
    "print(sentence.partition('of '))\n",
    "\n"
   ]
  },
  {
   "cell_type": "code",
   "execution_count": 51,
   "metadata": {},
   "outputs": [
    {
     "name": "stdout",
     "output_type": "stream",
     "text": [
      "{116: 120, 114: 121, 115: 122}\n"
     ]
    }
   ],
   "source": [
    "#maketrans\n",
    "a = \"trs\"\n",
    "b = \"xyz\"\n",
    "c = \"pqr\"\n",
    "print(c.maketrans(a, b))"
   ]
  },
  {
   "cell_type": "code",
   "execution_count": 54,
   "metadata": {},
   "outputs": [
    {
     "name": "stdout",
     "output_type": "stream",
     "text": [
      "('', 'China', '–Pakistan relations')\n",
      "('China–Pakistan ', 'relations', '')\n"
     ]
    }
   ],
   "source": [
    "#rpartition\n",
    "sentence =\"China–Pakistan relations\"\n",
    "print(sentence.partition(\"China\"))\n",
    "print(sentence.partition(\"relations\"))"
   ]
  },
  {
   "cell_type": "code",
   "execution_count": 57,
   "metadata": {},
   "outputs": [
    {
     "name": "stdout",
     "output_type": "stream",
     "text": [
      "10\n",
      "-1\n"
     ]
    }
   ],
   "source": [
    "#rfind\n",
    "sentence =\"Python is an interpreted, high-level, general-purpose programming language\"\n",
    "x = sentence.rfind(\"an interpreted\")\n",
    "y = sentence.rfind(\"complier\")\n",
    "print(x)\n",
    "print(y)"
   ]
  },
  {
   "cell_type": "code",
   "execution_count": 64,
   "metadata": {},
   "outputs": [
    {
     "name": "stdout",
     "output_type": "stream",
     "text": [
      "R-index : 13\n"
     ]
    },
    {
     "ename": "ValueError",
     "evalue": "substring not found",
     "output_type": "error",
     "traceback": [
      "\u001b[1;31m---------------------------------------------------------------------------\u001b[0m",
      "\u001b[1;31mValueError\u001b[0m                                Traceback (most recent call last)",
      "\u001b[1;32m<ipython-input-64-e9b4f7b9f0e7>\u001b[0m in \u001b[0;36m<module>\u001b[1;34m\u001b[0m\n\u001b[0;32m      4\u001b[0m \u001b[0mx\u001b[0m \u001b[1;33m=\u001b[0m \u001b[0msentence\u001b[0m\u001b[1;33m.\u001b[0m\u001b[0mrindex\u001b[0m\u001b[1;33m(\u001b[0m\u001b[1;34m'help you'\u001b[0m\u001b[1;33m)\u001b[0m\u001b[1;33m\u001b[0m\u001b[1;33m\u001b[0m\u001b[0m\n\u001b[0;32m      5\u001b[0m \u001b[0mprint\u001b[0m\u001b[1;33m(\u001b[0m\u001b[1;34m\"R-index :\"\u001b[0m\u001b[1;33m,\u001b[0m \u001b[0mx\u001b[0m\u001b[1;33m)\u001b[0m\u001b[1;33m\u001b[0m\u001b[1;33m\u001b[0m\u001b[0m\n\u001b[1;32m----> 6\u001b[1;33m \u001b[0my\u001b[0m \u001b[1;33m=\u001b[0m \u001b[0msentence\u001b[0m\u001b[1;33m.\u001b[0m\u001b[0mrindex\u001b[0m\u001b[1;33m(\u001b[0m\u001b[1;34m'small'\u001b[0m\u001b[1;33m)\u001b[0m\u001b[1;33m\u001b[0m\u001b[1;33m\u001b[0m\u001b[0m\n\u001b[0m\u001b[0;32m      7\u001b[0m \u001b[0mprint\u001b[0m\u001b[1;33m(\u001b[0m\u001b[1;34m\"R-index :\"\u001b[0m\u001b[1;33m,\u001b[0m \u001b[0mresult\u001b[0m\u001b[1;33m)\u001b[0m\u001b[1;33m\u001b[0m\u001b[1;33m\u001b[0m\u001b[0m\n",
      "\u001b[1;31mValueError\u001b[0m: substring not found"
     ]
    }
   ],
   "source": [
    "#rindex\n",
    "sentence = 'C# Guide can help you gain extensive knowledge on C#'\n",
    "\n",
    "x = sentence.rindex('help you')\n",
    "print(\"R-index :\", x)\n",
    "y = sentence.rindex('small')\n",
    "print(\"R-index :\", result)"
   ]
  },
  {
   "cell_type": "code",
   "execution_count": 76,
   "metadata": {},
   "outputs": [
    {
     "name": "stdout",
     "output_type": "stream",
     "text": [
      "False\n",
      "True\n",
      "False\n"
     ]
    }
   ],
   "source": [
    "#startswith\n",
    "sentence = \"PHP: Hypertext Preprocessor is a general-purpose programming language.\"\n",
    "x = sentence.startswith(\"is a\")\n",
    "print(x)\n",
    "y = sentence.startswith(\"PHP: Hypertext\")\n",
    "print(y)"
   ]
  },
  {
   "cell_type": "code",
   "execution_count": 81,
   "metadata": {},
   "outputs": [
    {
     "name": "stdout",
     "output_type": "stream",
     "text": [
      "00000Hypertext Markup Language\n",
      "0000000000Hypertext Markup Language\n",
      "Hypertext Markup Language\n"
     ]
    }
   ],
   "source": [
    "#zfill\n",
    "sentence = \"Hypertext Markup Language\"\n",
    "print(sentence.zfill(30))\n",
    "print(sentence.zfill(35))\n",
    "print(sentence.zfill(0))"
   ]
  }
 ],
 "metadata": {
  "kernelspec": {
   "display_name": "Python 3",
   "language": "python",
   "name": "python3"
  },
  "language_info": {
   "codemirror_mode": {
    "name": "ipython",
    "version": 3
   },
   "file_extension": ".py",
   "mimetype": "text/x-python",
   "name": "python",
   "nbconvert_exporter": "python",
   "pygments_lexer": "ipython3",
   "version": "3.7.3"
  }
 },
 "nbformat": 4,
 "nbformat_minor": 2
}
