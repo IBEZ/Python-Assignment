{
 "cells": [
  {
   "cell_type": "markdown",
   "metadata": {},
   "source": [
    "# List"
   ]
  },
  {
   "cell_type": "code",
   "execution_count": 24,
   "metadata": {},
   "outputs": [
    {
     "name": "stdout",
     "output_type": "stream",
     "text": [
      "['Farhad', 'Usama', 'Assam']\n"
     ]
    }
   ],
   "source": [
    "Std_name = [\"Farhad\",\"Usama\",\"Assam\"]\n",
    "print(Std_name)"
   ]
  },
  {
   "cell_type": "code",
   "execution_count": 15,
   "metadata": {},
   "outputs": [
    {
     "name": "stdout",
     "output_type": "stream",
     "text": [
      "Farhad\n",
      "Usama\n",
      "Assam\n"
     ]
    }
   ],
   "source": [
    "print(Std_name[0])\n",
    "print(Std_name[1])\n",
    "print(Std_name[2])"
   ]
  },
  {
   "cell_type": "code",
   "execution_count": 16,
   "metadata": {},
   "outputs": [
    {
     "name": "stdout",
     "output_type": "stream",
     "text": [
      "Updated Student Name list: ['Farhad', 'Usama', 'Assam', 'Mohsin Ahmed']\n"
     ]
    }
   ],
   "source": [
    "#append\n",
    "Std_name.append(\"Mohsin Ahmed\")\n",
    "print(\"Updated Student Name list:\",Std_name)"
   ]
  },
  {
   "cell_type": "code",
   "execution_count": 26,
   "metadata": {},
   "outputs": [
    {
     "name": "stdout",
     "output_type": "stream",
     "text": [
      "['Pakistan', 'India', 'Afganistan', 'USA', 'England', 'Turkey']\n"
     ]
    }
   ],
   "source": [
    "#extend\n",
    "country_name = [\"Pakistan\",\"India\",\"Afganistan\"]\n",
    "country_name1 = [\"USA\",\"England\",\"Turkey\"]\n",
    "country_name.extend(country_name1)\n",
    "print(country_name)"
   ]
  },
  {
   "cell_type": "code",
   "execution_count": null,
   "metadata": {},
   "outputs": [],
   "source": []
  }
 ],
 "metadata": {
  "kernelspec": {
   "display_name": "Python 3",
   "language": "python",
   "name": "python3"
  },
  "language_info": {
   "codemirror_mode": {
    "name": "ipython",
    "version": 3
   },
   "file_extension": ".py",
   "mimetype": "text/x-python",
   "name": "python",
   "nbconvert_exporter": "python",
   "pygments_lexer": "ipython3",
   "version": "3.7.3"
  }
 },
 "nbformat": 4,
 "nbformat_minor": 2
}
